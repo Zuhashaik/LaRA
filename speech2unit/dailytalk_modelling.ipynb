{
 "cells": [
  {
   "cell_type": "code",
   "execution_count": null,
   "metadata": {},
   "outputs": [],
   "source": [
    "from typing import List, Union\n",
    "import logging\n",
    "import os\n",
    "import sys\n",
    "import joblib\n",
    "import fire\n",
    "import fairseq\n",
    "import soundfile as sf\n",
    "import torch\n",
    "import torch.nn as nn\n",
    "import torch.nn.functional as F\n",
    "from tqdm.auto import tqdm\n",
    "from einops import rearrange\n",
    "import re\n",
    "import numpy as np\n",
    "from functools import partial\n",
    "import torch.multiprocessing as mp\n",
    "import torchaudio\n",
    "import glob\n",
    "import tqdm\n",
    "import argparse\n",
    "from torchaudio.functional import resample"
   ]
  },
  {
   "cell_type": "code",
   "execution_count": null,
   "metadata": {},
   "outputs": [],
   "source": [
    "from speech2unit import Speech2Unit"
   ]
  },
  {
   "cell_type": "code",
   "execution_count": null,
   "metadata": {},
   "outputs": [],
   "source": [
    "# download the files from here : https://drive.google.com/drive/folders/1bKjqa9N_AAM5PTqL4Z-5RxQHimTyCdJO\n",
    "s2u = Speech2Unit(\n",
    "        ckpt_path=ckpt_path, #mhubert_base_vp_en_es_fr_it3.pt\n",
    "        km_path = km_path   #mhubert_base_vp_en_es_fr_it3_L11_km1000.bin\n",
    "    )"
   ]
  },
  {
   "cell_type": "code",
   "execution_count": null,
   "metadata": {},
   "outputs": [],
   "source": [
    "units = s2u('example wav file as input')\n",
    "print(units)"
   ]
  },
  {
   "cell_type": "code",
   "execution_count": null,
   "metadata": {},
   "outputs": [],
   "source": [
    "def get_transcript(file_path):\n",
    "    with open(file_path, 'r') as file:\n",
    "        return file.readline()\n",
    "get_transcript('/media/iiit/Karvalo/zuhair/Proj-multimodal/dailytalk/data/0/0_1_d0.txt')"
   ]
  },
  {
   "cell_type": "code",
   "execution_count": null,
   "metadata": {},
   "outputs": [],
   "source": [
    "import os\n",
    "from tqdm import tqdm\n",
    "import pandas as pd\n",
    "\n",
    "# Define the directory containing the audio files\n",
    "audio_dir = \"/media/iiit/Karvalo/zuhair/Proj-multimodal/dailytalk/data\"\n",
    "\n",
    "# Custom sorting function to sort files based on a specific pattern\n",
    "def custom_sort(file):\n",
    "    parts = file.split('_')\n",
    "    return int(parts[0]), int(parts[1]), parts[2]  # Sort by the first and second parts as integers and the third part as a string\n",
    "\n",
    "# Function to split the list of files into .txt and .wav lists\n",
    "def split_files_by_extension(files):\n",
    "    txt_files = [file for file in files if file.endswith('.txt')]\n",
    "    wav_files = [file for file in files if file.endswith('.wav')]\n",
    "    return txt_files, wav_files\n",
    "\n",
    "speech_units = []  # List to store the formatted conversation units\n",
    "\n",
    "# Get a list of all folders in the audio directory and sort them numerically\n",
    "files = os.listdir(audio_dir)\n",
    "files.sort(key=lambda x: int(x))\n",
    "\n",
    "# Loop through each folder (conversation) in the directory\n",
    "for n, folder in enumerate(tqdm(files, desc=\"Processing\")):\n",
    "    conversation_dir = audio_dir + '/' + folder  # Path to the current conversation folder\n",
    "    files = os.listdir(conversation_dir)  # List all files in the current conversation folder\n",
    "    files = sorted(files, key=custom_sort)  # Sort the files using the custom_sort function\n",
    "\n",
    "    # Split the files into text and audio lists\n",
    "    txt_files, wav_files = split_files_by_extension(files)\n",
    "\n",
    "    file_units = []  # List to store the units for this conversation\n",
    "    for N, file in enumerate(wav_files):\n",
    "        if (N+1) % 2 == 1:  # Odd files correspond to speaker 'A'\n",
    "            speaker = 'A'\n",
    "            units = '<A><sp>' + s2u(conversation_dir + f'/{file}') + '</sp></A>'  # Process and format the audio file for speaker A\n",
    "        else:  # Even files correspond to speaker 'B'\n",
    "            speaker = 'B'\n",
    "            units = '<B><txt>' + get_transcript(conversation_dir + '/' + file.split('.')[0] + '.txt') + '</txt></B>'  # Process and format the transcript for speaker B\n",
    "        file_units.append(units)  # Add the formatted unit to the list for this conversation\n",
    "    \n",
    "    conversation = ' '.join(file_units)  # Combine all units for this conversation into a single string\n",
    "    speech_units.append(conversation)  # Add the conversation string to the main list\n",
    "\n",
    "# Create a DataFrame from the collected conversations\n",
    "df = pd.DataFrame({\n",
    "    'hubert_units': speech_units\n",
    "})\n",
    "\n",
    "# Save the DataFrame to a CSV file\n",
    "df.to_csv('/media/iiit/Karvalo/zuhair/Proj-multimodal/dailytalk/QandA_100.csv')\n"
   ]
  }
 ],
 "metadata": {
  "kernelspec": {
   "display_name": "Python 3",
   "language": "python",
   "name": "python3"
  },
  "language_info": {
   "codemirror_mode": {
    "name": "ipython",
    "version": 3
   },
   "file_extension": ".py",
   "mimetype": "text/x-python",
   "name": "python",
   "nbconvert_exporter": "python",
   "pygments_lexer": "ipython3",
   "version": "3.12.0"
  }
 },
 "nbformat": 4,
 "nbformat_minor": 2
}
