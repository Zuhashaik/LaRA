{
 "cells": [
  {
   "cell_type": "code",
   "execution_count": null,
   "metadata": {},
   "outputs": [],
   "source": [
    "from typing import List, Union\n",
    "import logging\n",
    "import os\n",
    "import sys\n",
    "import joblib\n",
    "import fire\n",
    "import fairseq\n",
    "import soundfile as sf\n",
    "import torch\n",
    "import torch.nn as nn\n",
    "import torch.nn.functional as F\n",
    "from tqdm.auto import tqdm\n",
    "from einops import rearrange\n",
    "import re\n",
    "import numpy as np\n",
    "from functools import partial\n",
    "import torch.multiprocessing as mp\n",
    "import torchaudio\n",
    "import glob\n",
    "import tqdm\n",
    "import argparse\n",
    "from torchaudio.functional import resample"
   ]
  },
  {
   "cell_type": "code",
   "execution_count": null,
   "metadata": {},
   "outputs": [],
   "source": [
    "from speech2unit import Speech2Unit"
   ]
  },
  {
   "cell_type": "code",
   "execution_count": null,
   "metadata": {},
   "outputs": [],
   "source": [
    "# download the files from here : https://drive.google.com/drive/folders/1bKjqa9N_AAM5PTqL4Z-5RxQHimTyCdJO\n",
    "s2u = Speech2Unit(\n",
    "        ckpt_path=ckpt_path, #mhubert_base_vp_en_es_fr_it3.pt\n",
    "        km_path = km_path   #mhubert_base_vp_en_es_fr_it3_L11_km1000.bin\n",
    "    )"
   ]
  },
  {
   "cell_type": "code",
   "execution_count": null,
   "metadata": {},
   "outputs": [],
   "source": [
    "units = s2u('example wav file as input')\n",
    "print(units)"
   ]
  }
 ],
 "metadata": {
  "kernelspec": {
   "display_name": "Python 3",
   "language": "python",
   "name": "python3"
  },
  "language_info": {
   "codemirror_mode": {
    "name": "ipython",
    "version": 3
   },
   "file_extension": ".py",
   "mimetype": "text/x-python",
   "name": "python",
   "nbconvert_exporter": "python",
   "pygments_lexer": "ipython3",
   "version": "3.12.0"
  }
 },
 "nbformat": 4,
 "nbformat_minor": 2
}
