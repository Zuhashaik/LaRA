{
 "cells": [
  {
   "cell_type": "code",
   "execution_count": null,
   "metadata": {},
   "outputs": [],
   "source": [
    "from typing import List, Union\n",
    "import logging\n",
    "import os\n",
    "import sys\n",
    "import joblib\n",
    "import fire\n",
    "import fairseq\n",
    "import soundfile as sf\n",
    "import torch\n",
    "import torch.nn as nn\n",
    "import torch.nn.functional as F\n",
    "from tqdm.auto import tqdm\n",
    "from einops import rearrange\n",
    "import re\n",
    "import numpy as np\n",
    "from functools import partial\n",
    "import torch.multiprocessing as mp\n",
    "import torchaudio\n",
    "import glob\n",
    "import tqdm\n",
    "import argparse\n",
    "from torchaudio.functional import resample"
   ]
  },
  {
   "cell_type": "code",
   "execution_count": null,
   "metadata": {},
   "outputs": [],
   "source": [
    "from speech2unit import Speech2Unit"
   ]
  },
  {
   "cell_type": "code",
   "execution_count": null,
   "metadata": {},
   "outputs": [],
   "source": [
    "# download the files from here : https://drive.google.com/drive/folders/1bKjqa9N_AAM5PTqL4Z-5RxQHimTyCdJO\n",
    "s2u = Speech2Unit(\n",
    "        ckpt_path=ckpt_path, #mhubert_base_vp_en_es_fr_it3.pt\n",
    "        km_path = km_path   #mhubert_base_vp_en_es_fr_it3_L11_km1000.bin\n",
    "    )"
   ]
  },
  {
   "cell_type": "code",
   "execution_count": null,
   "metadata": {},
   "outputs": [],
   "source": [
    "units = s2u('example wav file as input')\n",
    "print(units)"
   ]
  },
  {
   "cell_type": "markdown",
   "metadata": {},
   "source": [
    "# Train data\n",
    "Below csv you can create by itterating your directory and sub-directory and getting all the files in a csv file for easy processing.\n",
    "\n"
   ]
  },
  {
   "cell_type": "code",
   "execution_count": null,
   "metadata": {},
   "outputs": [],
   "source": [
    "# pseudo code : \n",
    "\n",
    "'''import os\n",
    "for dir in os.listdir(path):\n",
    "    for file in os.listdir(path + '/' + dir):\n",
    "        if file.endswith('.wav' or 'flac'):\n",
    "            files.append(path + '/' + dir + '/' + file)'''\n",
    "'''pd.DataFrame({\n",
    "    'file_dir': files\n",
    "}).to_csv('meta-libri-train-360.csv', index=False)'''"
   ]
  },
  {
   "cell_type": "code",
   "execution_count": null,
   "metadata": {},
   "outputs": [],
   "source": [
    "import pandas as pd\n",
    "# Converting speech into speech units for the train data !\n",
    "train = '/media/iiit/Karvalo/zuhair/Proj-multimodal/librispeech/meta-libri-train-360.csv'\n",
    "df = pd.read_csv(train)\n",
    "df.head()"
   ]
  },
  {
   "cell_type": "code",
   "execution_count": null,
   "metadata": {},
   "outputs": [],
   "source": [
    "from tqdm import tqdm\n",
    "\n",
    "speech_units = []\n",
    "for file_dir in tqdm(df['file_dir']):\n",
    "    units = '<sp>' + s2u(file_dir) + '</sp>'\n",
    "    speech_units.append(units)\n",
    "\n",
    "df['hubert_units'] = speech_units\n",
    "df = df[['file_name', 'transcript','hubert_units']]\n",
    "df.to_csv('__path__your__place/libri-train-360hrs-1000km.csv', index=False)\n",
    "df.head()"
   ]
  },
  {
   "cell_type": "markdown",
   "metadata": {},
   "source": [
    "Test data"
   ]
  },
  {
   "cell_type": "code",
   "execution_count": null,
   "metadata": {},
   "outputs": [],
   "source": [
    "import pandas as pd\n",
    "test = '/media/iiit/Karvalo/zuhair/Proj-multimodal/librispeech/meta-libri-test.csv'\n",
    "df = pd.read_csv(test)\n",
    "df.head()"
   ]
  },
  {
   "cell_type": "code",
   "execution_count": null,
   "metadata": {},
   "outputs": [],
   "source": [
    "from tqdm import tqdm\n",
    "\n",
    "speech_units = []\n",
    "for file_dir in tqdm(df['file_dir']):\n",
    "    units = '<sp>' + s2u(file_dir) + '</sp>'\n",
    "    speech_units.append(units)\n",
    "\n",
    "df['hubert_units'] = speech_units\n",
    "df = df[['file_name', 'transcript','hubert_units']]\n",
    "df.to_csv('__path__your__place/libri-test-1000km.csv', index=False)\n",
    "df.head()"
   ]
  }
 ],
 "metadata": {
  "kernelspec": {
   "display_name": "Python 3",
   "language": "python",
   "name": "python3"
  },
  "language_info": {
   "codemirror_mode": {
    "name": "ipython",
    "version": 3
   },
   "file_extension": ".py",
   "mimetype": "text/x-python",
   "name": "python",
   "nbconvert_exporter": "python",
   "pygments_lexer": "ipython3",
   "version": "3.12.0"
  }
 },
 "nbformat": 4,
 "nbformat_minor": 2
}
