{
 "cells": [
  {
   "cell_type": "code",
   "execution_count": 2,
   "metadata": {},
   "outputs": [
    {
     "name": "stderr",
     "output_type": "stream",
     "text": [
      "/home/zuhashaik/.local/lib/python3.12/site-packages/tqdm/auto.py:21: TqdmWarning: IProgress not found. Please update jupyter and ipywidgets. See https://ipywidgets.readthedocs.io/en/stable/user_install.html\n",
      "  from .autonotebook import tqdm as notebook_tqdm\n",
      "None of PyTorch, TensorFlow >= 2.0, or Flax have been found. Models won't be available and only tokenizers, configuration and file/data utilities can be used.\n"
     ]
    }
   ],
   "source": [
    "# import torch\n",
    "from model.model import load_model, resize_WEL\n",
    "from model.transfer_learning import transfer_learning\n",
    "from model.adapter_config import attach_adapter"
   ]
  },
  {
   "cell_type": "code",
   "execution_count": null,
   "metadata": {},
   "outputs": [],
   "source": [
    "model, tokenizer = load_model()\n",
    "#by default it will load llama-2-7B"
   ]
  },
  {
   "cell_type": "code",
   "execution_count": null,
   "metadata": {},
   "outputs": [],
   "source": [
    "model, tokenizer = resize_WEL(model, tokenizer)\n",
    "# This will resize the word embedding layer"
   ]
  },
  {
   "cell_type": "code",
   "execution_count": null,
   "metadata": {},
   "outputs": [],
   "source": [
    "# external_representations = #get these from the link given\n",
    "# model = transfer_learning(model, external_representations, start_index, end_index)\n",
    "# if you have any hidden representaions of the tokens you've added then use this.\n",
    "# Download the vectors from here : https://drive.google.com/drive/folders/1bKjqa9N_AAM5PTqL4Z-5RxQHimTyCdJO?usp=sharing"
   ]
  },
  {
   "cell_type": "code",
   "execution_count": null,
   "metadata": {},
   "outputs": [],
   "source": [
    "model = attach_adapter(model) #attaching an adapter, it takes LaRA configs ie, rank=alpha=2048 and target_modules = kqvo."
   ]
  },
  {
   "cell_type": "code",
   "execution_count": 7,
   "metadata": {},
   "outputs": [],
   "source": [
    "#load your own datasets\n",
    "\n",
    "# raw_dataset\n",
    "# {'train': Dataset({\n",
    "#      features: ['hubert_units'],\n",
    "#      num_rows: 4383\n",
    "#  }),\n",
    "#  'validation': Dataset({\n",
    "#      features: ['hubert_units'],\n",
    "#      num_rows: 342\n",
    "#  })}"
   ]
  },
  {
   "cell_type": "code",
   "execution_count": null,
   "metadata": {},
   "outputs": [],
   "source": [
    "def tokenize_function(examples):\n",
    "    output = tokenizer(examples['hubert_units'], truncation=False, padding=False)\n",
    "    return output\n",
    "\n",
    "column_names = ['hubert_units']\n",
    "tokenized_datasets = {split: raw_dataset[split].map(\n",
    "                        tokenize_function,\n",
    "                        batched=True,\n",
    "                        remove_columns=column_names,\n",
    "                     ) for split in raw_dataset}\n",
    "\n",
    "# tokenized_datasets = {split: tokenized_datasets[split].map(lambda example: {'labels': example['input_ids'].copy()}, batched=True) for split in tokenized_datasets}\n",
    "\n",
    "tokenized_datasets"
   ]
  },
  {
   "cell_type": "code",
   "execution_count": null,
   "metadata": {},
   "outputs": [],
   "source": [
    "from itertools import chain\n",
    "\n",
    "#training a huge dataset as follows:\n",
    "\n",
    "# block_size = tokenizer.model_max_length\n",
    "block_size = 4096\n",
    "\n",
    "def group_texts(examples):\n",
    "        # Concatenate all texts.\n",
    "        concatenated_examples = {k: list(chain(*examples[k])) for k in examples.keys()}\n",
    "        #===> {'input_ids': [[1, 2, 3], [4, 5], [6, 7, 8, 9]]} ====== {'input_ids': [1, 2, 3, 4, 5, 6, 7, 8, 9]}\n",
    "        \n",
    "        total_length = len(concatenated_examples[list(examples.keys())[0]])\n",
    "        if total_length >= block_size:\n",
    "            total_length = (total_length // block_size) * block_size\n",
    "            \n",
    "        # total_length = 8500 ==> total_length is then adjusted to 2 * 4096 = 8192. ==> \n",
    "        # Split by chunks of max_len.\n",
    "        result = {\n",
    "            k: [t[i : i + block_size] for i in range(0, total_length, block_size)]\n",
    "            for k, t in concatenated_examples.items()\n",
    "        }\n",
    "        #t (a list of tokens) is [1, 2, 3, 4, 5, 6, 7, 8, 9, 10], and block_size is 4. => \n",
    "        #[1, 2, 3, 4]\n",
    "        #[5, 6, 7, 8]\n",
    "        #[9, 10]\n",
    "        result[\"labels\"] = result[\"input_ids\"].copy()\n",
    "        return result\n",
    "\n",
    "lm_datasets = {split: tokenized_datasets[split].map(\n",
    "                    group_texts,\n",
    "                    batched=True,\n",
    "                ) for split in tokenized_datasets}\n",
    "\n",
    "lm_datasets"
   ]
  },
  {
   "cell_type": "code",
   "execution_count": null,
   "metadata": {},
   "outputs": [],
   "source": [
    "from transformers import Trainer, TrainingArguments\n",
    "\n",
    "#all the arguments according to your use case:\n",
    "\n",
    "model_version = \"__give your_name__\"\n",
    "model_dir = f\"{model_version}\"\n",
    "training_args = TrainingArguments(\n",
    "        run_name=model_version,\n",
    "        logging_dir=f\"speech-text/trainings/{model_dir}/logs\", #set your paths to store the checkpoints and logs\n",
    "        output_dir=f'speech-text/trainings/{model_dir}',\n",
    "        logging_steps=1,\n",
    "        per_device_train_batch_size= 1,  # Set batch size to 10 for training\n",
    "        per_device_eval_batch_size=1,     # Set batch size to 10 for evaluation\n",
    "        gradient_accumulation_steps=1,\n",
    "        evaluation_strategy=\"steps\",\n",
    "        eval_steps=500,  # Evaluate every 10,000 steps\n",
    "        learning_rate=2e-5,\n",
    "        num_train_epochs=3,\n",
    "        lr_scheduler_type=\"constant\",\n",
    "        save_strategy=\"epoch\",\n",
    "        # save_steps=n,  # Save checkpoints every n steps\n",
    "        fp16=True,\n",
    ")\n",
    "#connect your wandb if needed!\n",
    "\n",
    "# Training\n",
    "trainer = Trainer(\n",
    "    model=model, \n",
    "    tokenizer=tokenizer, \n",
    "    args=training_args, \n",
    "    train_dataset=lm_datasets['train'], \n",
    "    eval_dataset=lm_datasets['validation'], \n",
    ")\n",
    "tokenizer.save_pretrained(model_version)"
   ]
  },
  {
   "cell_type": "code",
   "execution_count": null,
   "metadata": {},
   "outputs": [],
   "source": [
    "import os\n",
    "os.environ['PYTORCH_CUDA_ALLOC_CONF'] = 'expandable_segments:True'\n",
    "import wandb\n",
    "wandb.init(\n",
    "project=\"Speech-text-LLM\", # Name of the dir you wanted to store this run\n",
    "name=model_version # Run name\n",
    ")\n",
    "trainer.train()"
   ]
  }
 ],
 "metadata": {
  "kernelspec": {
   "display_name": "Python 3",
   "language": "python",
   "name": "python3"
  },
  "language_info": {
   "codemirror_mode": {
    "name": "ipython",
    "version": 3
   },
   "file_extension": ".py",
   "mimetype": "text/x-python",
   "name": "python",
   "nbconvert_exporter": "python",
   "pygments_lexer": "ipython3",
   "version": "3.12.0"
  }
 },
 "nbformat": 4,
 "nbformat_minor": 2
}
